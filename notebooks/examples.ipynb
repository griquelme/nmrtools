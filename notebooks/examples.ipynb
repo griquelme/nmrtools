{
 "cells": [
  {
   "cell_type": "code",
   "execution_count": null,
   "id": "417d1607",
   "metadata": {},
   "outputs": [],
   "source": [
    "import numpy as np\n",
    "import nmrtools as nt\n",
    "import matplotlib.pyplot as plt\n",
    "from scipy.signal.windows import exponential"
   ]
  },
  {
   "cell_type": "markdown",
   "id": "5402ed92",
   "metadata": {},
   "source": [
    "\n",
    "## Simulate a compound in frequency domain"
   ]
  },
  {
   "cell_type": "code",
   "execution_count": null,
   "id": "8a31459c",
   "metadata": {},
   "outputs": [],
   "source": [
    "# frecuency in ppm units\n",
    "f = np.linspace(0, 10, 64000) \n",
    "# larmor frequency for each multiplet\n",
    "f0 = [1.46, 3.75] \n",
    "# coupling constants for each multiplet, in ppm units/\n",
    "# a doublet and a quartet\n",
    "j = [[0.01], [0.01, 0.01, 0.01]]  \n",
    "# lambda = (1/t2) is related with the peak FWHM as follows FWHM = 2 lambda\n",
    "# in ppm units for a FWHM = 0.0025 ppm, t2 = 800\n",
    "t2 = [800.0, 800.0]\n",
    "abundance = [3, 1]\n",
    "sp = nt.simulation.simulate_compound_frequency(f, f0, j, t2, abundance)"
   ]
  },
  {
   "cell_type": "code",
   "execution_count": null,
   "id": "033a5b4a",
   "metadata": {},
   "outputs": [],
   "source": [
    "fig, ax = plt.subplots(figsize=(8, 4))\n",
    "ax.plot(f, sp, linewidth=1)\n",
    "ax.set_xlim(1.4, 4.0)\n",
    "ax.invert_xaxis()\n",
    "ax.set_xlabel(\"$\\delta$ [ppm]\")\n",
    "ax.set_ylabel(\"Intensity [au]\")"
   ]
  },
  {
   "cell_type": "markdown",
   "id": "e66d28cd",
   "metadata": {},
   "source": [
    "## Simulate a compound in time domain"
   ]
  },
  {
   "cell_type": "code",
   "execution_count": null,
   "id": "c1a17044",
   "metadata": {},
   "outputs": [],
   "source": [
    "SW = 1024  # spectral width in Hz (Sampling Frequency)\n",
    "N = 2 ** 10 # 1K points\n",
    "t = np.arange(N) / SW # time vector in s"
   ]
  },
  {
   "cell_type": "code",
   "execution_count": null,
   "id": "d925d217",
   "metadata": {},
   "outputs": [],
   "source": [
    "f0 = [200, 400]\n",
    "j = [[10], [10, 10, 10]]\n",
    "abundance = [3, 1]\n",
    "t2 = [2, 2]\n",
    "fid = nt.simulation.simulate_compound_time(t, f0, j, t2, abundance)"
   ]
  },
  {
   "cell_type": "code",
   "execution_count": null,
   "id": "740aa4a2",
   "metadata": {},
   "outputs": [],
   "source": [
    "fig, ax = plt.subplots(figsize=(8, 4))\n",
    "ax.plot(t, fid.real, linewidth=1)\n",
    "ax.set_xlabel(\"Time [s]\")\n",
    "ax.set_ylabel(\"Intensity [au]\")\n",
    "ax.set_title(\"Real part of the FID\")"
   ]
  },
  {
   "cell_type": "code",
   "execution_count": null,
   "id": "4b10ec52",
   "metadata": {},
   "outputs": [],
   "source": [
    "# applying a window function to the FID\n",
    "lb = 2 # line broadening in Hz\n",
    "tau = SW / lb # tau is 1 / lb\n",
    "w = exponential(N, center=0, tau=tau, sym=False)\n",
    "\n",
    "fig, ax = plt.subplots(figsize=(8, 4))\n",
    "ax.plot(t, fid.real * w, linewidth=1, label=\"windowed FID\")\n",
    "ax.plot(t, w * fid.real.max(), linewidth=1, label=\"window\")\n",
    "ax.set_xlabel(\"Time [s]\")\n",
    "ax.set_ylabel(\"Intensity [au]\")\n",
    "ax.set_title(\"Apodization of a FID\")\n",
    "ax.legend()"
   ]
  },
  {
   "cell_type": "code",
   "execution_count": null,
   "id": "9ea32fbd",
   "metadata": {},
   "outputs": [],
   "source": [
    "# Transform to frequency domain\n",
    "N_zf = 2 * N  # size of the data after zero filing\n",
    "sp = np.fft.fft(fid, n=N_zf)\n",
    "sp = np.fft.fftshift(sp)\n",
    "dt = 1 / SW  # sampling period\n",
    "f = np.fft.fftfreq(N_zf, d=dt)\n",
    "f = np.fft.fftshift(f)"
   ]
  },
  {
   "cell_type": "code",
   "execution_count": null,
   "id": "c240d1fd",
   "metadata": {},
   "outputs": [],
   "source": [
    "fig, ax = plt.subplots(figsize=(8, 4))\n",
    "ax.plot(f, sp.real, linewidth=1)\n",
    "ax.set_xlabel(\"Frequency [Hz]\")\n",
    "ax.set_ylabel(\"Intensity [au]\")\n",
    "ax.set_title(\"Spectrum\")"
   ]
  },
  {
   "cell_type": "markdown",
   "id": "1697f4f7",
   "metadata": {},
   "source": [
    "## Simulate a mixture of compounds"
   ]
  },
  {
   "cell_type": "code",
   "execution_count": null,
   "id": "cac2ee76",
   "metadata": {},
   "outputs": [],
   "source": [
    "# Create spectra for multiple compounds\n",
    "\n",
    "# frecuency in ppm units\n",
    "f = np.linspace(0, 5, 4096) \n",
    "# larmor frequency for compound\n",
    "f0 = [[1.46, 3.75], [3.21, 3.51]]\n",
    "# coupling constants for each multiplet, in ppm units/\n",
    "# a doublet and a quartet\n",
    "j = [[[0.01], [0.01, 0.01, 0.01]], [[], []]] # empty list are used for singlets  \n",
    "t2 = [[800.0, 800.0], [800, 800]]\n",
    "abundance = [[3, 1], [1, 1]]\n",
    "sp = nt.simulation.make_mixture_frequency(f, f0, j, t2, abundance)"
   ]
  },
  {
   "cell_type": "code",
   "execution_count": null,
   "id": "cd2a0380",
   "metadata": {},
   "outputs": [],
   "source": [
    "fig, ax = plt.subplots(figsize=(8, 4))\n",
    "for k, ksp in enumerate(sp):\n",
    "    ax.plot(f, ksp, linewidth=1, label=\"Compound {}\".format(k + 1))\n",
    "ax.set_xlim(1.4, 4.0)\n",
    "ax.invert_xaxis()\n",
    "ax.set_xlabel(\"$\\delta$ [ppm]\")\n",
    "ax.set_ylabel(\"Intensity [au]\")\n",
    "ax.legend()"
   ]
  },
  {
   "cell_type": "code",
   "execution_count": null,
   "id": "07aa6d6a",
   "metadata": {},
   "outputs": [],
   "source": [
    "# simulate mixtures\n",
    "n_samples = 200\n",
    "n_compounds = sp.shape[0]\n",
    "mu = [5, 7]  # mean for each compound\n",
    "sigma = [1, 2] # std for each compound\n",
    "coeff = np.random.normal(size=(n_samples, n_compounds), loc=mu, scale=sigma)\n",
    "\n",
    "sp_mix = np.dot(coeff, sp)"
   ]
  },
  {
   "cell_type": "code",
   "execution_count": null,
   "id": "340260ee",
   "metadata": {},
   "outputs": [],
   "source": [
    "# plot five different mixtures\n",
    "y_offset = 5.0\n",
    "fig, ax = plt.subplots(figsize=(8, 4))\n",
    "for i, k in enumerate(np.random.choice(n_samples, 5, replace=False)):\n",
    "    ax.plot(f, sp_mix[k] + y_offset * i, linewidth=1, label=\"Mix row={}\".format(k))\n",
    "ax.set_xlim(1.4, 4.0)\n",
    "ax.invert_xaxis()\n",
    "ax.set_xlabel(\"$\\delta$ [ppm]\")\n",
    "ax.set_ylabel(\"Intensity [au]\")\n",
    "ax.legend()"
   ]
  },
  {
   "cell_type": "markdown",
   "id": "1067cea6",
   "metadata": {},
   "source": [
    "## STOCSY analysis"
   ]
  },
  {
   "cell_type": "code",
   "execution_count": null,
   "id": "7c0379e7",
   "metadata": {},
   "outputs": [],
   "source": [
    "# peak detection in the mean spectra\n",
    "sp_mean = sp_mix.mean(axis=0)\n",
    "noise = nt.peaks.estimate_noise(sp_mean)\n",
    "baseline = nt.peaks.estimate_baseline(sp_mean, noise)\n",
    "start, apex, end = nt.peaks.detect_peaks(sp_mean, noise, baseline)"
   ]
  },
  {
   "cell_type": "code",
   "execution_count": null,
   "id": "56a3c4c8",
   "metadata": {},
   "outputs": [],
   "source": [
    "fig, ax = plt.subplots(figsize=(8, 4))\n",
    "ax.plot(f, sp_mean, linewidth=1, label=\"mean spectrum\")\n",
    "ax.scatter(f[apex], sp_mean[apex], marker=\"x\", label=\"peaks\")\n",
    "ax.set_xlabel(\"Frequency [Hz]\")\n",
    "ax.set_ylabel(\"Intensity [au]\")\n",
    "ax.set_title(\"Spectrum\")\n",
    "ax.set_xlim(1.4, 4.0)\n",
    "ax.invert_xaxis()\n",
    "ax.set_xlabel(\"$\\delta$ [ppm]\")\n",
    "ax.set_ylabel(\"Intensity [au]\")\n",
    "ax.legend()"
   ]
  },
  {
   "cell_type": "code",
   "execution_count": null,
   "id": "a609cf99",
   "metadata": {},
   "outputs": [],
   "source": [
    "# STOCSY traces\n",
    "dp = apex[0]  # driver peak\n",
    "trace_cov = nt.utils.covmatk(sp_mix, dp)\n",
    "trace_corr = nt.utils.corrmatk(sp_mix, dp)\n",
    "\n",
    "fig, ax = plt.subplots(figsize=(8, 4))\n",
    "nt.plot.plot_colored_curve(f, trace_cov, trace_corr, ax=ax, cmap=\"jet\")\n",
    "ax.scatter(f[dp], trace_cov[dp], label=\"Driver Peak\", marker=\"x\")\n",
    "ax.set_xlim(1, 4)\n",
    "ax.set_ylim(0, 10)\n",
    "ax.set_xlabel(\"$\\delta$ [ppm]\")\n",
    "ax.set_ylabel(\"Cov [au]\")\n",
    "ax.set_title(\"STOCSY trace @f2={:.3f} ppm\".format(f[dp]))\n",
    "cbar_loc = [0.4, 0.8, 0.2, 0.025]\n",
    "ax.invert_xaxis()\n",
    "nt.plot.add_colorbar(fig, cbar_loc, 0, 1, cmap=\"jet\", orientation=\"horizontal\", label=\"Correlation\")\n",
    "ax.legend()"
   ]
  },
  {
   "cell_type": "code",
   "execution_count": null,
   "id": "4b7b83bc",
   "metadata": {},
   "outputs": [],
   "source": [
    "# 2D STOCSY plot\n",
    "stocsy_cov = nt.utils.covmat(sp_mix)\n",
    "stocsy_corr = nt.utils.corrmat(sp_mix)\n",
    "\n",
    "fig, ax = plt.subplots()\n",
    "levels = [0.1, 0.2, 0.3, 0.4, 0.5, 0.6, 0.7, 0.8, 0.9, 1.0]\n",
    "nt.plot.plot_colored_contours(f, f, stocsy_cov, stocsy_corr, levels, ax=ax, cmap=\"jet\")\n",
    "ax.set_xlim(1, 4)\n",
    "ax.set_ylim(1, 4)\n",
    "ax.set_xlabel(\"$\\delta$ [ppm]\")\n",
    "ax.set_ylabel(\"$\\delta$ [ppm]\")\n",
    "ax.set_title(\"STOCSY spectrum\")\n",
    "cbar_loc = [0.4, 0.8, 0.2, 0.025]\n",
    "ax.invert_xaxis()\n",
    "ax.invert_yaxis()\n",
    "nt.plot.add_colorbar(fig, cbar_loc, 0, 1, cmap=\"jet\", orientation=\"horizontal\", label=\"Correlation\")"
   ]
  },
  {
   "cell_type": "markdown",
   "id": "55a46b7e",
   "metadata": {},
   "source": [
    "## Multiplet annotation"
   ]
  },
  {
   "cell_type": "code",
   "execution_count": null,
   "id": "ed4f5f70",
   "metadata": {},
   "outputs": [],
   "source": [
    "def list_to_str(l):\n",
    "    l = [\"{:.1f}\".format(x) for x in l]\n",
    "    return \", \".join(l)"
   ]
  },
  {
   "cell_type": "code",
   "execution_count": null,
   "id": "14bfe9a1",
   "metadata": {},
   "outputs": [],
   "source": [
    "j_sim = [7, 7, 7]\n",
    "f = np.linspace(-30, 30, 1000)\n",
    "t2 = 2\n",
    "sp = nt.multiplet.simulate_frequency(f, j_sim, t2)\n",
    "\n",
    "# multiplet frequency and height estimation\n",
    "noise = nt.peaks.estimate_noise(sp)\n",
    "baseline = nt.peaks.estimate_baseline(sp, noise)\n",
    "_, apex, _ = nt.peaks.detect_peaks(sp, noise, baseline)\n",
    "f_peaks = f[apex]\n",
    "h_peaks = sp[apex]\n",
    "\n",
    "# multiplet annotation\n",
    "f_tol = 1\n",
    "j_annotation = nt.multiplet.annotate(f_peaks, h_peaks, f_tol)[0]"
   ]
  },
  {
   "cell_type": "code",
   "execution_count": null,
   "id": "36062240",
   "metadata": {},
   "outputs": [],
   "source": [
    "fig, ax = plt.subplots()\n",
    "ax.plot(f, sp)\n",
    "sim_text = \"$J_{sim.} (Hz) $: \" + list_to_str(j_sim)\n",
    "ann_text = \"$J_{ann.} (Hz) $: \" + list_to_str(j_annotation)\n",
    "ax.set_xlabel(\"Frequency [Hz]\")\n",
    "ax.set_ylabel(\"Intensity [au]\")\n",
    "ax.annotate(sim_text, (10, 1.2))\n",
    "ax.annotate(ann_text, (10, 1.0))"
   ]
  },
  {
   "cell_type": "code",
   "execution_count": null,
   "id": "cbc48046",
   "metadata": {},
   "outputs": [],
   "source": [
    "fig, ax = plt.subplots(ncols=3, nrows=3, sharex=True, sharey=True, figsize=(9, 9))\n",
    "simulated_j_list = [\n",
    "    [7, 7, 7],\n",
    "    [5, 7, 9],\n",
    "    [5, 5, 8, 13],\n",
    "    [4, 7, 7],\n",
    "    [3, 5, 5, 5, 12],\n",
    "    [3, 5],\n",
    "    [8, 8, 8, 8, 8],\n",
    "    [9, 9, 11, 13, 13],\n",
    "    [5]\n",
    "]\n",
    "\n",
    "\n",
    "for k, j_sim, in enumerate(simulated_j_list):\n",
    "    row, col = np.divmod(k, 3)\n",
    "    sp = nt.multiplet.simulate_frequency(f, j_sim, t2)\n",
    "    sp = sp / sp.max()\n",
    "    \n",
    "    # multiplet frequency and height estimation using peak detection\n",
    "    noise = nt.peaks.estimate_noise(sp)\n",
    "    baseline = nt.peaks.estimate_baseline(sp, noise)\n",
    "    _, apex, _ = nt.peaks.detect_peaks(sp, noise, baseline)\n",
    "    f_peaks = f[apex]\n",
    "    h_peaks = sp[apex]\n",
    "\n",
    "    # multiplet annotation\n",
    "    f_tol = 1.5\n",
    "    j_annotation = nt.multiplet.annotate(f_peaks, h_peaks, f_tol, max_perturbation=2)\n",
    "    j_annotation = j_annotation[0]\n",
    "    \n",
    "    \n",
    "    # plot\n",
    "    cax = ax[row, col]\n",
    "    sim_text = \"$J_{sim.} (Hz) $: \" + list_to_str(j_sim)\n",
    "    ann_text = \"$J_{ann.} (Hz) $: \" + list_to_str(j_annotation)\n",
    "    cax.plot(f, sp)\n",
    "    cax.annotate(sim_text, (-30, 2.0))\n",
    "    cax.annotate(ann_text, (-30, 1.5))\n",
    "    cax.set_ylim(0, 2.5)\n",
    "    \n",
    "    if row == 2:\n",
    "        cax.set_xlabel(\"Frequency [Hz]\")\n",
    "        \n",
    "    if col == 0:\n",
    "        cax.set_ylabel(\"Intensity [au]\")\n",
    "fig.tight_layout()"
   ]
  }
 ],
 "metadata": {
  "kernelspec": {
   "display_name": "Python 3 (ipykernel)",
   "language": "python",
   "name": "python3"
  },
  "language_info": {
   "codemirror_mode": {
    "name": "ipython",
    "version": 3
   },
   "file_extension": ".py",
   "mimetype": "text/x-python",
   "name": "python",
   "nbconvert_exporter": "python",
   "pygments_lexer": "ipython3",
   "version": "3.9.12"
  }
 },
 "nbformat": 4,
 "nbformat_minor": 5
}
